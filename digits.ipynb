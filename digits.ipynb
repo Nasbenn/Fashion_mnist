{
 "cells": [
  {
   "cell_type": "code",
   "execution_count": 51,
   "metadata": {},
   "outputs": [],
   "source": [
    "import keras\n",
    "import numpy as np\n",
    "from keras.models import Sequential\n",
    "from keras.layers import Input,Dense,Activation,Flatten,Dropout\n",
    "from keras.layers import Conv2D,Conv1D,Conv3D,MaxPool2D\n",
    "fashion_mnist = keras.datasets.fashion_mnist\n",
    "digit_minst = keras.datasets.mnist\n",
    "import matplotlib.pyplot as plt"
   ]
  },
  {
   "cell_type": "code",
   "execution_count": 41,
   "metadata": {},
   "outputs": [
    {
     "data": {
      "image/png": "[encoded data removed]",
      "text/plain": [
       "<matplotlib.figure.Figure at 0x7f0f507a7cf8>"
      ]
     },
     "metadata": {},
     "output_type": "display_data"
    }
   ],
   "source": [
    "(train_images, train_labels), (test_images, test_labels) = digit_minst.load_data()\n",
    "plt.imshow(train_images[2])\n",
    "toto_images = test_images"
   ]
  },
  {
   "cell_type": "code",
   "execution_count": 42,
   "metadata": {},
   "outputs": [
    {
     "data": {
      "text/plain": [
       "(60000, 28, 28)"
      ]
     },
     "execution_count": 42,
     "metadata": {},
     "output_type": "execute_result"
    }
   ],
   "source": [
    "train_images.shape"
   ]
  },
  {
   "cell_type": "code",
   "execution_count": 31,
   "metadata": {},
   "outputs": [
    {
     "name": "stdout",
     "output_type": "stream",
     "text": [
      "_________________________________________________________________\n",
      "Layer (type)                 Output Shape              Param #   \n",
      "=================================================================\n",
      "conv2d_37 (Conv2D)           (None, 24, 24, 16)        416       \n",
      "_________________________________________________________________\n",
      "max_pooling2d_30 (MaxPooling (None, 12, 12, 16)        0         \n",
      "_________________________________________________________________\n",
      "conv2d_38 (Conv2D)           (None, 8, 8, 32)          12832     \n",
      "_________________________________________________________________\n",
      "max_pooling2d_31 (MaxPooling (None, 4, 4, 32)          0         \n",
      "_________________________________________________________________\n",
      "conv2d_39 (Conv2D)           (None, 3, 3, 64)          8256      \n",
      "_________________________________________________________________\n",
      "max_pooling2d_32 (MaxPooling (None, 1, 1, 64)          0         \n",
      "_________________________________________________________________\n",
      "flatten_5 (Flatten)          (None, 64)                0         \n",
      "_________________________________________________________________\n",
      "dense_9 (Dense)              (None, 10)                650       \n",
      "_________________________________________________________________\n",
      "dense_10 (Dense)             (None, 10)                110       \n",
      "=================================================================\n",
      "Total params: 22,264\n",
      "Trainable params: 22,264\n",
      "Non-trainable params: 0\n",
      "_________________________________________________________________\n"
     ]
    }
   ],
   "source": [
    "model = Sequential()\n",
    "\n",
    "model.add(Conv2D(16,kernel_size=5,activation=\"relu\",input_shape=(28,28,1)))\n",
    "model.add(MaxPool2D())\n",
    "\n",
    "model.add(Conv2D(32,kernel_size=5,activation=\"relu\"))\n",
    "model.add(MaxPool2D())\n",
    "\n",
    "model.add(Conv2D(64,kernel_size=2,activation=\"relu\"))\n",
    "model.add(MaxPool2D())\n",
    "\n",
    "model.add(Flatten())\n",
    "model.add(Dense(10,activation=\"relu\"))\n",
    "model.add(Dense(10,activation= \"softmax\"))\n",
    "\n",
    "model.compile(optimizer=\"adam\",loss = \"sparse_categorical_crossentropy\",metrics= [\"accuracy\"])\n",
    "model.summary()\n",
    "    "
   ]
  },
  {
   "cell_type": "code",
   "execution_count": 43,
   "metadata": {},
   "outputs": [],
   "source": [
    "train_images = train_images.reshape(train_images.shape[0],28,28,1)"
   ]
  },
  {
   "cell_type": "code",
   "execution_count": 44,
   "metadata": {},
   "outputs": [],
   "source": [
    "test_images = test_images.reshape(test_images.shape[0],28,28,1)"
   ]
  },
  {
   "cell_type": "code",
   "execution_count": 34,
   "metadata": {},
   "outputs": [
    {
     "name": "stdout",
     "output_type": "stream",
     "text": [
      "Train on 60000 samples, validate on 10000 samples\n",
      "Epoch 1/50\n",
      " - 14s - loss: 2.0670 - acc: 0.1986 - val_loss: 1.9196 - val_acc: 0.2226\n",
      "Epoch 2/50\n",
      " - 13s - loss: 1.8475 - acc: 0.2255 - val_loss: 1.7825 - val_acc: 0.2420\n",
      "Epoch 3/50\n",
      " - 13s - loss: 1.7470 - acc: 0.2400 - val_loss: 1.7078 - val_acc: 0.2510\n",
      "Epoch 4/50\n",
      " - 13s - loss: 1.6509 - acc: 0.2877 - val_loss: 1.5215 - val_acc: 0.4088\n",
      "Epoch 5/50\n",
      " - 14s - loss: 1.2179 - acc: 0.5146 - val_loss: 0.8468 - val_acc: 0.6850\n",
      "Epoch 6/50\n",
      " - 14s - loss: 0.6959 - acc: 0.7586 - val_loss: 0.4782 - val_acc: 0.8883\n",
      "Epoch 7/50\n",
      " - 13s - loss: 0.3768 - acc: 0.9230 - val_loss: 0.2659 - val_acc: 0.9600\n",
      "Epoch 8/50\n",
      " - 13s - loss: 0.1948 - acc: 0.9618 - val_loss: 0.1363 - val_acc: 0.9657\n",
      "Epoch 9/50\n",
      " - 13s - loss: 0.0999 - acc: 0.9737 - val_loss: 0.0999 - val_acc: 0.9748\n",
      "Epoch 10/50\n",
      " - 13s - loss: 0.0755 - acc: 0.9797 - val_loss: 0.0916 - val_acc: 0.9760\n",
      "Epoch 11/50\n",
      " - 13s - loss: 0.0610 - acc: 0.9835 - val_loss: 0.0938 - val_acc: 0.9746\n",
      "Epoch 12/50\n",
      " - 13s - loss: 0.0541 - acc: 0.9851 - val_loss: 0.1008 - val_acc: 0.9746\n",
      "Epoch 13/50\n",
      " - 13s - loss: 0.0453 - acc: 0.9877 - val_loss: 0.0913 - val_acc: 0.9780\n",
      "Epoch 14/50\n",
      " - 13s - loss: 0.0399 - acc: 0.9885 - val_loss: 0.0831 - val_acc: 0.9789\n",
      "Epoch 15/50\n",
      " - 14s - loss: 0.0348 - acc: 0.9901 - val_loss: 0.0952 - val_acc: 0.9757\n",
      "Epoch 16/50\n",
      " - 14s - loss: 0.0330 - acc: 0.9905 - val_loss: 0.0765 - val_acc: 0.9805\n",
      "Epoch 17/50\n",
      " - 13s - loss: 0.0281 - acc: 0.9916 - val_loss: 0.0793 - val_acc: 0.9821\n",
      "Epoch 18/50\n",
      " - 13s - loss: 0.0275 - acc: 0.9922 - val_loss: 0.0806 - val_acc: 0.9834\n",
      "Epoch 19/50\n",
      " - 13s - loss: 0.0251 - acc: 0.9922 - val_loss: 0.1005 - val_acc: 0.9770\n",
      "Epoch 20/50\n",
      " - 13s - loss: 0.0244 - acc: 0.9932 - val_loss: 0.0763 - val_acc: 0.9836\n",
      "Epoch 21/50\n",
      " - 13s - loss: 0.0190 - acc: 0.9942 - val_loss: 0.0813 - val_acc: 0.9829\n",
      "Epoch 22/50\n",
      " - 13s - loss: 0.0176 - acc: 0.9951 - val_loss: 0.0955 - val_acc: 0.9804\n",
      "Epoch 23/50\n",
      " - 13s - loss: 0.0223 - acc: 0.9931 - val_loss: 0.1033 - val_acc: 0.9787\n",
      "Epoch 24/50\n",
      " - 13s - loss: 0.0194 - acc: 0.9941 - val_loss: 0.1069 - val_acc: 0.9800\n",
      "Epoch 25/50\n",
      " - 13s - loss: 0.0202 - acc: 0.9937 - val_loss: 0.0982 - val_acc: 0.9816\n",
      "Epoch 26/50\n",
      " - 13s - loss: 0.0244 - acc: 0.9924 - val_loss: 0.0999 - val_acc: 0.9801\n",
      "Epoch 27/50\n",
      " - 13s - loss: 0.0184 - acc: 0.9950 - val_loss: 0.0768 - val_acc: 0.9848\n",
      "Epoch 28/50\n",
      " - 13s - loss: 0.0144 - acc: 0.9958 - val_loss: 0.0906 - val_acc: 0.9822\n",
      "Epoch 29/50\n",
      " - 13s - loss: 0.0118 - acc: 0.9967 - val_loss: 0.0900 - val_acc: 0.9836\n",
      "Epoch 30/50\n",
      " - 13s - loss: 0.0170 - acc: 0.9945 - val_loss: 0.0989 - val_acc: 0.9811\n",
      "Epoch 31/50\n",
      " - 13s - loss: 0.0165 - acc: 0.9952 - val_loss: 0.1001 - val_acc: 0.9819\n",
      "Epoch 32/50\n",
      " - 13s - loss: 0.0164 - acc: 0.9954 - val_loss: 0.1099 - val_acc: 0.9784\n",
      "Epoch 33/50\n",
      " - 14s - loss: 0.0139 - acc: 0.9957 - val_loss: 0.1056 - val_acc: 0.9817\n",
      "Epoch 34/50\n",
      " - 13s - loss: 0.0151 - acc: 0.9954 - val_loss: 0.1057 - val_acc: 0.9809\n",
      "Epoch 35/50\n",
      " - 13s - loss: 0.0113 - acc: 0.9965 - val_loss: 0.1100 - val_acc: 0.9810\n",
      "Epoch 36/50\n",
      " - 13s - loss: 0.0111 - acc: 0.9967 - val_loss: 0.1038 - val_acc: 0.9808\n",
      "Epoch 37/50\n",
      " - 13s - loss: 0.0104 - acc: 0.9971 - val_loss: 0.1064 - val_acc: 0.9834\n",
      "Epoch 38/50\n",
      " - 13s - loss: 0.0127 - acc: 0.9960 - val_loss: 0.1089 - val_acc: 0.9823\n",
      "Epoch 39/50\n",
      " - 14s - loss: 0.0150 - acc: 0.9958 - val_loss: 0.1048 - val_acc: 0.9831\n",
      "Epoch 40/50\n",
      " - 14s - loss: 0.0159 - acc: 0.9952 - val_loss: 0.1170 - val_acc: 0.9803\n",
      "Epoch 41/50\n",
      " - 14s - loss: 0.0138 - acc: 0.9960 - val_loss: 0.1201 - val_acc: 0.9785\n",
      "Epoch 42/50\n",
      " - 14s - loss: 0.0103 - acc: 0.9969 - val_loss: 0.1121 - val_acc: 0.9819\n",
      "Epoch 43/50\n",
      " - 13s - loss: 0.0119 - acc: 0.9968 - val_loss: 0.1041 - val_acc: 0.9826\n",
      "Epoch 44/50\n",
      " - 13s - loss: 0.0115 - acc: 0.9968 - val_loss: 0.1336 - val_acc: 0.9792\n",
      "Epoch 45/50\n",
      " - 13s - loss: 0.0116 - acc: 0.9968 - val_loss: 0.0989 - val_acc: 0.9835\n",
      "Epoch 46/50\n",
      " - 14s - loss: 0.0090 - acc: 0.9976 - val_loss: 0.1141 - val_acc: 0.9811\n",
      "Epoch 47/50\n",
      " - 13s - loss: 0.0102 - acc: 0.9971 - val_loss: 0.1044 - val_acc: 0.9831\n",
      "Epoch 48/50\n",
      " - 14s - loss: 0.0084 - acc: 0.9978 - val_loss: 0.1332 - val_acc: 0.9786\n",
      "Epoch 49/50\n",
      " - 14s - loss: 0.0159 - acc: 0.9954 - val_loss: 0.1269 - val_acc: 0.9777\n",
      "Epoch 50/50\n",
      " - 14s - loss: 0.0132 - acc: 0.9961 - val_loss: 0.1155 - val_acc: 0.9828\n"
     ]
    }
   ],
   "source": [
    "history = model.fit(train_images,train_labels ,validation_data=(test_images,test_labels), epochs=50 , batch_size= 280 , verbose = 2)"
   ]
  },
  {
   "cell_type": "code",
   "execution_count": 45,
   "metadata": {},
   "outputs": [
    {
     "data": {
      "image/png": "[encoded data removed]",
      "text/plain": [
       "<matplotlib.figure.Figure at 0x7f0f506d8358>"
      ]
     },
     "metadata": {},
     "output_type": "display_data"
    }
   ],
   "source": [
    "plt.plot(history.history[\"acc\"])\n",
    "plt.plot(history.history[\"val_acc\"])\n",
    "plt.xlabel(\"epochs\")\n",
    "plt.ylabel(\"accuracy\")\n",
    "plt.show()"
   ]
  },
  {
   "cell_type": "code",
   "execution_count": 46,
   "metadata": {},
   "outputs": [
    {
     "data": {
      "image/png": "[encoded data removed]",
      "text/plain": [
       "<matplotlib.figure.Figure at 0x7f0f506390f0>"
      ]
     },
     "metadata": {},
     "output_type": "display_data"
    }
   ],
   "source": [
    "plt.plot(history.history[\"loss\"])\n",
    "plt.plot(history.history[\"val_loss\"])\n",
    "plt.xlabel(\"epochs\")\n",
    "plt.ylabel(\"accuracy\")\n",
    "plt.show()"
   ]
  },
  {
   "cell_type": "code",
   "execution_count": 47,
   "metadata": {},
   "outputs": [],
   "source": [
    "predict = model.predict(test_images)"
   ]
  },
  {
   "cell_type": "code",
   "execution_count": 48,
   "metadata": {},
   "outputs": [
    {
     "data": {
      "text/plain": [
       "array([2.0868085e-14, 4.3646593e-05, 4.4887738e-06, 2.8989874e-18,\n",
       "       5.6717390e-08, 7.1617545e-23, 1.4478401e-15, 9.9995184e-01,\n",
       "       1.6486633e-12, 6.1014521e-22], dtype=float32)"
      ]
     },
     "execution_count": 48,
     "metadata": {},
     "output_type": "execute_result"
    }
   ],
   "source": [
    "predict[0]"
   ]
  },
  {
   "cell_type": "code",
   "execution_count": 55,
   "metadata": {},
   "outputs": [],
   "source": [
    "def plot_image(i,prediction_array,true_label,img):\n",
    "    prediction_array,true_label,img = predict[i],test_labels[i],toto_images[i]\n",
    "    plt.grid(\"False\")\n",
    "    plt.xticks([])\n",
    "    plt.yticks([])\n",
    "    plt.imshow(img,cmap=plt.cm.binary)\n",
    "    predict_label = np.argmax(prediction_array)\n",
    "    if(predict_label == true_label):\n",
    "        color = \"Blue\"\n",
    "    else:\n",
    "        color = \"red\"\n",
    "        \n",
    "    plt.xlabel(\"{} {} ({})\".format(predict_label,\n",
    "                                       100*np.max(prediction_array),\n",
    "                                       true_label,color=color))\n",
    "    \n"
   ]
  },
  {
   "cell_type": "code",
   "execution_count": 56,
   "metadata": {},
   "outputs": [
    {
     "data": {
      "image/png": "[encoded data removed]",
      "text/plain": [
       "<matplotlib.figure.Figure at 0x7f0f5008d5f8>"
      ]
     },
     "metadata": {},
     "output_type": "display_data"
    }
   ],
   "source": [
    "i = 0 \n",
    "plt.figure(figsize=(10,5))\n",
    "plt.subplot(1,2,1)\n",
    "plot_image(i,predict,test_labels,test_images)\n",
    "plt.show()"
   ]
  },
  {
   "cell_type": "code",
   "execution_count": 57,
   "metadata": {},
   "outputs": [],
   "source": [
    "def plot_value_array(i, predictions_array, true_label):\n",
    "  predictions_array, true_label = predictions_array[i], true_label[i]\n",
    "  plt.grid(False)\n",
    "  plt.xticks([])\n",
    "  plt.yticks([])\n",
    "  thisplot = plt.bar(range(10), predictions_array, color=\"#777777\")\n",
    "  plt.ylim([0, 1])\n",
    "  predicted_label = np.argmax(predictions_array)\n",
    "  plt.xticks(range(10), [0,1,2,3,4,5,6,7,8,9], rotation=45)\n",
    "  thisplot[predicted_label].set_color('red')\n",
    "  thisplot[true_label].set_color('blue')"
   ]
  },
  {
   "cell_type": "code",
   "execution_count": 68,
   "metadata": {},
   "outputs": [
    {
     "data": {
      "image/png": "[encoded data removed]",
      "text/plain": [
       "<matplotlib.figure.Figure at 0x7f0f7291a550>"
      ]
     },
     "metadata": {},
     "output_type": "display_data"
    }
   ],
   "source": [
    "i = 1054\n",
    "plt.figure(figsize=(10,5))\n",
    "plt.subplot(1,2,1)\n",
    "plot_image(i,predict,test_labels,test_images)\n",
    "plt.subplot(1,2,2)\n",
    "plot_value_array(i,predict,test_labels)\n",
    "plt.show()"
   ]
  },
  {
   "cell_type": "code",
   "execution_count": null,
   "metadata": {},
   "outputs": [],
   "source": []
  }
 ],
 "metadata": {
  "kernelspec": {
   "display_name": "Python 3",
   "language": "python",
   "name": "python3"
  },
  "language_info": {
   "codemirror_mode": {
    "name": "ipython",
    "version": 3
   },
   "file_extension": ".py",
   "mimetype": "text/x-python",
   "name": "python",
   "nbconvert_exporter": "python",
   "pygments_lexer": "ipython3",
   "version": "3.6.4"
  }
 },
 "nbformat": 4,
 "nbformat_minor": 2
}
