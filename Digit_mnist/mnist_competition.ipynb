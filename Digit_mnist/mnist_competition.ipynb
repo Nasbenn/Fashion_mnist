{
  "cells": [
    {
      "metadata": {
        "_uuid": "8f2839f25d086af736a60e9eeb907d3b93b6e0e5",
        "_cell_guid": "b1076dfc-b9ad-4769-8c92-a6c4dae69d19",
        "trusted": true
      },
      "cell_type": "code",
      "source": "# This Python 3 environment comes with many helpful analytics libraries installed\n# It is defined by the kaggle/python Docker image: https://github.com/kaggle/docker-python\n# For example, here's several helpful packages to load\nimport keras\nimport numpy as np # linear algebra\nimport pandas as pd # data processing, CSV file I/O (e.g. pd.read_csv)\nimport matplotlib.pyplot as plt\n# Input data files are available in the read-only \"../input/\" directory\n# For example, running this (by clicking run or pressing Shift+Enter) will list all files under the input directory\n\nimport os\nfor dirname, _, filenames in os.walk('/kaggle/input'):\n    for filename in filenames:\n        print(os.path.join(dirname, filename))\n\n# You can write up to 20GB to the current directory (/kaggle/working/) that gets preserved as output when you create a version using \"Save & Run All\" \n# You can also write temporary files to /kaggle/temp/, but they won't be saved outside of the current session",
      "execution_count": null,
      "outputs": []
    },
    {
      "metadata": {
        "_uuid": "d629ff2d2480ee46fbb7e2d37f6b5fab8052498a",
        "_cell_guid": "79c7e3d0-c299-4dcb-8224-4455121ee9b0",
        "trusted": true
      },
      "cell_type": "code",
      "source": "df_train = pd.read_csv(\"/kaggle/input/digit-recognizer/train.csv\").values\ndf_train",
      "execution_count": null,
      "outputs": []
    },
    {
      "metadata": {
        "trusted": true
      },
      "cell_type": "code",
      "source": "X_train = df_train[:,1:]\ny_train = df_train[:,0]\nencoder= keras.utils.to_categorical(y_train)\nX_train = X_train/255\nX_show = X_train.reshape(-1,28,28)\nX_train= X_train.reshape(-1,28,28,1)\n",
      "execution_count": null,
      "outputs": []
    },
    {
      "metadata": {
        "trusted": true
      },
      "cell_type": "code",
      "source": "plt.imshow(X_show[9],cmap = \"gray\")\nplt.show()",
      "execution_count": null,
      "outputs": []
    },
    {
      "metadata": {
        "trusted": true
      },
      "cell_type": "code",
      "source": "import keras\nfrom keras.models import Sequential\nfrom keras.layers import Flatten,Input,Dense,Conv2D,MaxPool2D,Dropout,Activation,LeakyReLU",
      "execution_count": null,
      "outputs": []
    },
    {
      "metadata": {
        "trusted": true
      },
      "cell_type": "code",
      "source": "model = Sequential()\nmodel.add(Conv2D(filters = 64 ,\n                 kernel_size = (3,3),\n                 input_shape = (28,28,1),activation = \"relu\"))\n#model.add(LeakyReLU(alpha=0.1))\nmodel.add(MaxPool2D(pool_size = 2))\nmodel.add(Conv2D(filters = 64 ,\n                 kernel_size = (3,3),activation = \"relu\"))\n#model.add(LeakyReLU(alpha=0.1))\nmodel.add(Dropout(0.4))\nmodel.add(Conv2D(filters = 128 ,\n                 kernel_size = (3,3),activation = \"relu\"))\n#model.add(LeakyReLU(alpha=0.1))\nmodel.add(Dropout(0.4))\nmodel.add(MaxPool2D(pool_size = 2))\nmodel.add(Dropout(0.4))\nmodel.add(Conv2D(filters = 256 ,\n                 kernel_size = (3,3),activation = \"relu\"))\n#model.add(LeakyReLU(alpha=0.1))\nmodel.add(MaxPool2D(pool_size = 2))\n\nmodel.add(Flatten())\nmodel.add(Dropout(0.4))\nmodel.add(Dense(16,activation = \"sigmoid\"))\nmodel.add(Dense(10,activation = \"softmax\"))",
      "execution_count": null,
      "outputs": []
    },
    {
      "metadata": {
        "trusted": true
      },
      "cell_type": "code",
      "source": "model.compile(optimizer=\"adam\",loss = \"categorical_crossentropy\",metrics=[\"acc\"])\n",
      "execution_count": null,
      "outputs": []
    },
    {
      "metadata": {
        "trusted": true
      },
      "cell_type": "code",
      "source": "history = model.fit(X_train,encoder,epochs=50,batch_size = 86)",
      "execution_count": null,
      "outputs": []
    },
    {
      "metadata": {
        "trusted": true
      },
      "cell_type": "code",
      "source": "#after the validation and tuning the parameters i used all the training data to train the model\nplt.plot(history.history['acc'])\n#plt.plot(history.history['val_acc'])\nplt.title('model accuracy')\nplt.ylabel('accuracy')\nplt.xlabel('epoch')\nplt.legend(['train', 'test'], loc='upper left')\nplt.show()\n# summarize history for loss\nplt.plot(history.history['loss'])\n#plt.plot(history.history['val_loss'])\nplt.title('model loss')\nplt.ylabel('loss')\nplt.xlabel('epoch')\nplt.legend(['train', 'test'], loc='upper left')\nplt.show()",
      "execution_count": null,
      "outputs": []
    },
    {
      "metadata": {
        "trusted": true
      },
      "cell_type": "code",
      "source": "import numpy as np\nimport matplotlib.pyplot as plt\n\nwidth=10\nheight=10\nrows = 10\ncols = 2\naxes=[]\nfig=plt.figure(figsize=(10,10))\nfor a in range(rows*cols):\n    axes.append(fig.add_subplot(rows, cols, a+1))\n    pred = np.argmax(model.predict(np.asarray([X_train[a]]))[0])\n    subplot_title=(\"Number : \"+str(pred))\n    axes[-1].set_title(subplot_title)  \n    plt.imshow(X_show[a])\nfig.tight_layout()    \nplt.show()",
      "execution_count": null,
      "outputs": []
    },
    {
      "metadata": {
        "trusted": true
      },
      "cell_type": "code",
      "source": "df_test = pd.read_csv(\"/kaggle/input/digit-recognizer/test.csv\").values\nX_test = df_test\nX_test = X_test/255\nX_test= X_test.reshape(-1,28,28,1)",
      "execution_count": null,
      "outputs": []
    },
    {
      "metadata": {
        "trusted": true
      },
      "cell_type": "code",
      "source": "sub = pd.read_csv(\"/kaggle/input/digit-recognizer/sample_submission.csv\")\nsub[\"Label\"] = model.predict_classes(X_test)",
      "execution_count": null,
      "outputs": []
    },
    {
      "metadata": {
        "trusted": true
      },
      "cell_type": "code",
      "source": "sub.to_csv(\"submission_3.csv\")",
      "execution_count": null,
      "outputs": []
    },
    {
      "metadata": {
        "trusted": true
      },
      "cell_type": "code",
      "source": "",
      "execution_count": null,
      "outputs": []
    }
  ],
  "metadata": {
    "kernelspec": {
      "language": "python",
      "display_name": "Python 3",
      "name": "python3"
    },
    "language_info": {
      "pygments_lexer": "ipython3",
      "nbconvert_exporter": "python",
      "version": "3.6.4",
      "file_extension": ".py",
      "codemirror_mode": {
        "name": "ipython",
        "version": 3
      },
      "name": "python",
      "mimetype": "text/x-python"
    }
  },
  "nbformat": 4,
  "nbformat_minor": 4
}
